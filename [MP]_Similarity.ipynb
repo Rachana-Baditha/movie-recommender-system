{
  "nbformat": 4,
  "nbformat_minor": 0,
  "metadata": {
    "colab": {
      "provenance": [],
      "mount_file_id": "1BoYHg0Is-zxSvVJXIqDOr5usisqy0BXM",
      "authorship_tag": "ABX9TyM79OEHBUmFdjeHfaHpfHq0",
      "include_colab_link": true
    },
    "kernelspec": {
      "name": "python3",
      "display_name": "Python 3"
    },
    "language_info": {
      "name": "python"
    }
  },
  "cells": [
    {
      "cell_type": "markdown",
      "metadata": {
        "id": "view-in-github",
        "colab_type": "text"
      },
      "source": [
        "<a href=\"https://colab.research.google.com/github/Rachana-Baditha/movie-recommender-system/blob/main/%5BMP%5D_Similarity.ipynb\" target=\"_parent\"><img src=\"https://colab.research.google.com/assets/colab-badge.svg\" alt=\"Open In Colab\"/></a>"
      ]
    },
    {
      "cell_type": "code",
      "execution_count": null,
      "metadata": {
        "id": "LDA1Fin-oKJw"
      },
      "outputs": [],
      "source": [
        "import numpy as np\n",
        "import pandas as pd\n",
        "import matplotlib.pyplot as plt\n",
        "import seaborn as sns\n",
        "from datetime import datetime\n",
        "from sklearn.feature_extraction.text import TfidfVectorizer\n",
        "from sklearn.metrics.pairwise import cosine_similarity"
      ]
    },
    {
      "cell_type": "code",
      "source": [
        "# -> All Functions <-"
      ],
      "metadata": {
        "id": "p6rVdSZsMgTF"
      },
      "execution_count": null,
      "outputs": []
    },
    {
      "cell_type": "code",
      "source": [
        "def getCombinedFeatures(movie_df, features):\n",
        "  combined_features = \"\"\n",
        "\n",
        "  for feature in features:\n",
        "    combined_features += movie_df[feature] + \" \"\n",
        "\n",
        "  return combined_features"
      ],
      "metadata": {
        "id": "p4r5IwJ1pk9o"
      },
      "execution_count": null,
      "outputs": []
    },
    {
      "cell_type": "code",
      "source": [
        "def getSimilarity(combined_features):\n",
        "\n",
        "  #Getting feature vector\n",
        "\n",
        "  vectorizer = TfidfVectorizer()\n",
        "\n",
        "  feature_vectors = vectorizer.fit_transform(combined_features)\n",
        "\n",
        "\n",
        "  #Get Similarity\n",
        "\n",
        "  similarity = cosine_similarity(feature_vectors)\n",
        "\n",
        "\n",
        "  return similarity"
      ],
      "metadata": {
        "id": "JrZj8wwyplwD"
      },
      "execution_count": null,
      "outputs": []
    },
    {
      "cell_type": "code",
      "source": [
        "def getRecommendations(movie_id, similarity, recList):\n",
        "\n",
        "  for x in enumerate(similarity[movie_id - 1]):\n",
        "    if (x[0]) == movie_id-1:\n",
        "      continue\n",
        "    if (x[0]) in recList:\n",
        "      recList[(x[0])] = max(x[1],recList[x[0]])\n",
        "    else:\n",
        "      recList[(x[0])] = x[1]\n",
        "\n",
        "  return recList"
      ],
      "metadata": {
        "id": "fHelzGzo9TFd"
      },
      "execution_count": null,
      "outputs": []
    },
    {
      "cell_type": "code",
      "source": [
        "# -> Initialise all DataFrames <-"
      ],
      "metadata": {
        "id": "5o7HLQ78GnvE"
      },
      "execution_count": null,
      "outputs": []
    },
    {
      "cell_type": "code",
      "source": [
        "dateparse = lambda x: datetime.utcfromtimestamp(int(x)).strftime('%Y-%m-%d %H:%M:%S')\n",
        "\n",
        "base1_df = pd.read_csv('/content/drive/MyDrive/ML100K/u1.base', sep='\\t', \n",
        "                        names=['user_id', 'movie_id', 'rating', 'timestamp'], \n",
        "                        parse_dates=['timestamp'], \n",
        "                        date_parser=dateparse)\n",
        "\n",
        "base1_df['enjoyed'] = base1_df['rating'] >=4\n",
        "\n",
        "base1_df = base1_df.drop(['timestamp'],axis=1)"
      ],
      "metadata": {
        "id": "TRjesAbsoaGu"
      },
      "execution_count": null,
      "outputs": []
    },
    {
      "cell_type": "code",
      "source": [
        "test1_df = pd.read_csv('/content/drive/MyDrive/ML100K/u1.test', sep='\\t', \n",
        "                        names=['user_id', 'movie_id', 'rating', 'timestamp'], \n",
        "                        parse_dates=['timestamp'], \n",
        "                        date_parser=dateparse)\n",
        "\n",
        "test1_df['enjoyed'] = test1_df['rating'] >=4\n",
        "\n",
        "test1_df = test1_df.drop(['timestamp'],axis=1)"
      ],
      "metadata": {
        "id": "SPwrkUtfFt9X"
      },
      "execution_count": null,
      "outputs": []
    },
    {
      "cell_type": "code",
      "source": [
        "clean_movie_df = pd.read_csv('/content/drive/MyDrive/ML100K/movies_clean.csv', sep=',', names=[\"id\",\"title\",\"year\",\"genres\",\"actors\",\"director\",\"language\",\"rating\",\"runtime\",\"plot-synopsis\",\"poster\"])\n",
        "\n",
        "pd.set_option('display.max_rows', None)"
      ],
      "metadata": {
        "id": "2EoR8_1O3xku"
      },
      "execution_count": null,
      "outputs": []
    },
    {
      "cell_type": "code",
      "source": [
        "movie_df = pd.read_csv('/content/drive/MyDrive/ML100K/u.item', sep='|', encoding='latin-1',\n",
        "                    names=['movie_id', 'movie_title', 'release_date', 'video_release_date', 'imdb_url', 'unknown', 'action', \n",
        "                           'adventure', 'animation', 'childrens', 'comedy', 'crime', 'documentary', 'drama', 'fantasy', \n",
        "                           'film_noir', 'horror', 'musical', 'mystery', 'romance', 'sci_fi', 'thriller', 'war', 'western'])"
      ],
      "metadata": {
        "id": "Xw9kb6xgEe_0"
      },
      "execution_count": null,
      "outputs": []
    },
    {
      "cell_type": "code",
      "source": [
        "clean_movie_df = clean_movie_df.fillna(\"\")"
      ],
      "metadata": {
        "id": "b7C2gdhpq1a9"
      },
      "execution_count": null,
      "outputs": []
    },
    {
      "cell_type": "code",
      "source": [
        "# clean_movie_df"
      ],
      "metadata": {
        "id": "6lffpWdOOagw"
      },
      "execution_count": null,
      "outputs": []
    },
    {
      "cell_type": "code",
      "source": [
        "# -> Get Similarity Matrix <-"
      ],
      "metadata": {
        "id": "kMkHPkrwGtvR"
      },
      "execution_count": null,
      "outputs": []
    },
    {
      "cell_type": "code",
      "source": [
        "combined_features = getCombinedFeatures(clean_movie_df, [\"actors\",\"genres\",\"director\",\t\"language\"]) #Removed ratings and runtime and director and language"
      ],
      "metadata": {
        "id": "2ZL38ogwpltH"
      },
      "execution_count": null,
      "outputs": []
    },
    {
      "cell_type": "code",
      "source": [
        "similarity = getSimilarity(combined_features)"
      ],
      "metadata": {
        "id": "sJmzeZvSplyg"
      },
      "execution_count": null,
      "outputs": []
    },
    {
      "cell_type": "code",
      "source": [
        "# -> Aggregate Similarity Scores <-"
      ],
      "metadata": {
        "id": "Fd3XKJ8ZG3xU"
      },
      "execution_count": null,
      "outputs": []
    },
    {
      "cell_type": "code",
      "source": [
        "userId = 1"
      ],
      "metadata": {
        "id": "s5UI_LF9Mm1b"
      },
      "execution_count": null,
      "outputs": []
    },
    {
      "cell_type": "code",
      "source": [
        "no_of_users = len(base1_df[\"user_id\"].unique())\n",
        "\n",
        "enjoyed_movies = []"
      ],
      "metadata": {
        "id": "f5LSGLZ0t68_"
      },
      "execution_count": null,
      "outputs": []
    },
    {
      "cell_type": "code",
      "source": [
        "# for user in range(1,no_of_users + 1):\n",
        "#   m_enjoy = base1_df.loc[(base1_df[\"user_id\"] == user) & (base1_df[\"enjoyed\"] == True)][\"movie_id\"].tolist()\n",
        "\n",
        "#   enjoyed_movies.append(m_enjoy)\n",
        "\n",
        "# enjoyed_movies"
      ],
      "metadata": {
        "id": "VlQ-JmBj78Ot"
      },
      "execution_count": null,
      "outputs": []
    },
    {
      "cell_type": "code",
      "source": [
        "enjoyed_movies = base1_df.loc[(base1_df[\"user_id\"] == userId) & (base1_df[\"enjoyed\"] == True)][\"movie_id\"].tolist()\n"
      ],
      "metadata": {
        "id": "mIH5L3S05Zw9"
      },
      "execution_count": null,
      "outputs": []
    },
    {
      "cell_type": "code",
      "source": [
        "recList = {}\n",
        "\n",
        "for movie in enjoyed_movies:\n",
        "  recList = getRecommendations(movie,similarity, recList)\n",
        "\n",
        "sorted_similarity_score = sorted(recList.items(), key=lambda x:x[1], reverse=True)"
      ],
      "metadata": {
        "id": "zoxE5mfFCK6f"
      },
      "execution_count": null,
      "outputs": []
    },
    {
      "cell_type": "code",
      "source": [
        "top_rec = sorted_similarity_score[:100]"
      ],
      "metadata": {
        "id": "YGUE8z9AHTa_"
      },
      "execution_count": null,
      "outputs": []
    },
    {
      "cell_type": "code",
      "source": [
        "# -> Display Top Recommendations <-"
      ],
      "metadata": {
        "id": "MCem5Yg2G-6b"
      },
      "execution_count": null,
      "outputs": []
    },
    {
      "cell_type": "code",
      "source": [
        "# print(f\"Recommendations for User 1\\n-----------------------------------------------------------\")\n",
        "\n",
        "# for i in range(0,100):\n",
        "#   id = movie_df.iloc[sorted_similarity_score[i][0]][\"movie_id\"]\n",
        "#   title = movie_df.iloc[sorted_similarity_score[i][0]][\"movie_title\"]\n",
        "#   score = sorted_similarity_score[i][1]\n",
        "\n",
        "#   print(f\"{i} \\t|\\t {id} \\t|\\t{title} \\t|\\t {score}\")"
      ],
      "metadata": {
        "id": "Yb9lEY60EUxs"
      },
      "execution_count": null,
      "outputs": []
    },
    {
      "cell_type": "code",
      "source": [
        "# -> Verifying Accuracy <-\n",
        "# test1_df"
      ],
      "metadata": {
        "id": "4d6utBDfKOSX"
      },
      "execution_count": null,
      "outputs": []
    },
    {
      "cell_type": "code",
      "source": [
        "# enjoyed_test = test1_df.loc[(test1_df[\"user_id\"] == userId) & (test1_df[\"enjoyed\"] == True)][\"movie_id\"].tolist()"
      ],
      "metadata": {
        "id": "pmOm7ngDKUhf"
      },
      "execution_count": null,
      "outputs": []
    },
    {
      "cell_type": "code",
      "source": [
        "# enjoyed_test"
      ],
      "metadata": {
        "id": "U7YISY9pKg-H"
      },
      "execution_count": null,
      "outputs": []
    },
    {
      "cell_type": "code",
      "source": [
        "# count = 0\n",
        "\n",
        "# for i in range(len(top_rec)):\n",
        "#   if movie_df.iloc[top_rec[i][0]][\"movie_id\"] in enjoyed_test:\n",
        "#     count+=1\n",
        "#     id = movie_df.iloc[top_rec[i][0]][\"movie_id\"]\n",
        "#     title = movie_df.iloc[top_rec[i][0]][\"movie_title\"]\n",
        "#     score = top_rec[i][1]\n",
        "\n",
        "#     print(f\"{i} \\t|\\t {id} \\t|\\t{title} \\t|\\t {score}\")\n",
        "\n",
        "# print(f\"Total -> {count}\")"
      ],
      "metadata": {
        "id": "JG2oWbQ_LZPb"
      },
      "execution_count": null,
      "outputs": []
    },
    {
      "cell_type": "code",
      "source": [
        "user_count = len(base1_df[\"user_id\"].unique())\n",
        "no_of_users = 400\n",
        "\n",
        "no_rec = 15\n",
        "\n",
        "precision = 0\n",
        "recall = 0\n",
        "\n",
        "avg_p = 0\n",
        "avg_r = 0\n",
        "\n",
        "for userID in range(1,no_of_users):\n",
        "  enjoyed_movies = base1_df.loc[(base1_df[\"user_id\"] == userID) & (base1_df[\"enjoyed\"] == True)][\"movie_id\"].tolist()\n",
        "\n",
        "  # if len(enjoyed_movies) == 0:\n",
        "  #   break\n",
        "\n",
        "  recList = {}\n",
        "\n",
        "  for movie in enjoyed_movies:\n",
        "    recList = getRecommendations(movie,similarity, recList)\n",
        "\n",
        "  sorted_similarity_score = sorted(recList.items(), key=lambda x:x[1], reverse=True)\n",
        "\n",
        "  top_rec = sorted_similarity_score[:no_rec]\n",
        "\n",
        "  enjoyed_test = test1_df.loc[(test1_df[\"user_id\"] == userID) & (test1_df[\"enjoyed\"] == True)][\"movie_id\"].tolist()\n",
        "\n",
        "  count = 0\n",
        "\n",
        "  for i in range(len(top_rec)):\n",
        "    if movie_df.iloc[top_rec[i][0]][\"movie_id\"] in enjoyed_test:\n",
        "      count+=1\n",
        "\n",
        "  precision = round(( count / len(top_rec) )*100,2)\n",
        "  recall = round((count / len(enjoyed_movies))*100,2)\n",
        "\n",
        "  avg_p += precision\n",
        "  avg_r += recall\n",
        "\n",
        "  print(f\"User {userID} -> \\tC = {count}\\tP = {precision}%\\tR = {recall}%\")\n",
        "\n",
        "\n",
        "avg_p = round(avg_p/no_of_users,2)\n",
        "avg_r = round(avg_r/no_of_users,2)\n",
        "\n",
        "print(f\"Average P = {avg_p}\\tAverage R = {avg_r}\")\n",
        "\n",
        "\n",
        "\n",
        "\n",
        "\n"
      ],
      "metadata": {
        "id": "Xnd2ZOfnV_9p",
        "colab": {
          "base_uri": "https://localhost:8080/"
        },
        "outputId": "c81b30c7-8c4a-48b8-dd64-3280f9975f52"
      },
      "execution_count": null,
      "outputs": [
        {
          "output_type": "stream",
          "name": "stdout",
          "text": [
            "User 1 -> \tC = 1\tP = 6.67%\tR = 1.19%\n",
            "User 2 -> \tC = 0\tP = 0.0%\tR = 0.0%\n",
            "User 3 -> \tC = 1\tP = 6.67%\tR = 10.0%\n",
            "User 4 -> \tC = 0\tP = 0.0%\tR = 0.0%\n",
            "User 5 -> \tC = 2\tP = 13.33%\tR = 6.06%\n",
            "User 6 -> \tC = 2\tP = 13.33%\tR = 2.86%\n",
            "User 7 -> \tC = 4\tP = 26.67%\tR = 2.88%\n",
            "User 8 -> \tC = 3\tP = 20.0%\tR = 16.67%\n",
            "User 9 -> \tC = 0\tP = 0.0%\tR = 0.0%\n",
            "User 10 -> \tC = 3\tP = 20.0%\tR = 3.49%\n",
            "User 11 -> \tC = 1\tP = 6.67%\tR = 2.04%\n",
            "User 12 -> \tC = 1\tP = 6.67%\tR = 4.55%\n",
            "User 13 -> \tC = 4\tP = 26.67%\tR = 2.47%\n",
            "User 14 -> \tC = 1\tP = 6.67%\tR = 2.94%\n",
            "User 15 -> \tC = 0\tP = 0.0%\tR = 0.0%\n",
            "User 16 -> \tC = 2\tP = 13.33%\tR = 3.51%\n",
            "User 17 -> \tC = 0\tP = 0.0%\tR = 0.0%\n",
            "User 18 -> \tC = 4\tP = 26.67%\tR = 3.92%\n",
            "User 19 -> \tC = 0\tP = 0.0%\tR = 0.0%\n",
            "User 20 -> \tC = 1\tP = 6.67%\tR = 7.14%\n",
            "User 21 -> \tC = 1\tP = 6.67%\tR = 3.7%\n",
            "User 22 -> \tC = 4\tP = 26.67%\tR = 10.53%\n",
            "User 23 -> \tC = 2\tP = 13.33%\tR = 3.7%\n",
            "User 24 -> \tC = 0\tP = 0.0%\tR = 0.0%\n",
            "User 25 -> \tC = 2\tP = 13.33%\tR = 5.41%\n",
            "User 26 -> \tC = 0\tP = 0.0%\tR = 0.0%\n",
            "User 27 -> \tC = 1\tP = 6.67%\tR = 33.33%\n",
            "User 28 -> \tC = 2\tP = 13.33%\tR = 8.7%\n",
            "User 29 -> \tC = 0\tP = 0.0%\tR = 0.0%\n",
            "User 30 -> \tC = 1\tP = 6.67%\tR = 5.88%\n",
            "User 31 -> \tC = 1\tP = 6.67%\tR = 6.25%\n",
            "User 32 -> \tC = 1\tP = 6.67%\tR = 8.33%\n",
            "User 33 -> \tC = 0\tP = 0.0%\tR = 0.0%\n",
            "User 34 -> \tC = 0\tP = 0.0%\tR = 0.0%\n",
            "User 35 -> \tC = 0\tP = 0.0%\tR = 0.0%\n",
            "User 36 -> \tC = 0\tP = 0.0%\tR = 0.0%\n",
            "User 37 -> \tC = 1\tP = 6.67%\tR = 5.0%\n",
            "User 38 -> \tC = 2\tP = 13.33%\tR = 4.88%\n",
            "User 39 -> \tC = 0\tP = 0.0%\tR = 0.0%\n",
            "User 40 -> \tC = 0\tP = 0.0%\tR = 0.0%\n",
            "User 41 -> \tC = 1\tP = 6.67%\tR = 4.35%\n",
            "User 42 -> \tC = 2\tP = 13.33%\tR = 3.85%\n",
            "User 43 -> \tC = 6\tP = 40.0%\tR = 8.57%\n",
            "User 44 -> \tC = 0\tP = 0.0%\tR = 0.0%\n",
            "User 45 -> \tC = 0\tP = 0.0%\tR = 0.0%\n",
            "User 46 -> \tC = 1\tP = 6.67%\tR = 11.11%\n",
            "User 47 -> \tC = 0\tP = 0.0%\tR = 0.0%\n",
            "User 48 -> \tC = 1\tP = 6.67%\tR = 4.76%\n",
            "User 49 -> \tC = 2\tP = 13.33%\tR = 6.25%\n",
            "User 50 -> \tC = 0\tP = 0.0%\tR = 0.0%\n",
            "User 51 -> \tC = 0\tP = 0.0%\tR = 0.0%\n",
            "User 52 -> \tC = 0\tP = 0.0%\tR = 0.0%\n",
            "User 53 -> \tC = 1\tP = 6.67%\tR = 7.14%\n",
            "User 54 -> \tC = 1\tP = 6.67%\tR = 5.88%\n",
            "User 55 -> \tC = 0\tP = 0.0%\tR = 0.0%\n",
            "User 56 -> \tC = 6\tP = 40.0%\tR = 10.34%\n",
            "User 57 -> \tC = 0\tP = 0.0%\tR = 0.0%\n",
            "User 58 -> \tC = 3\tP = 20.0%\tR = 5.26%\n",
            "User 59 -> \tC = 3\tP = 20.0%\tR = 1.79%\n",
            "User 60 -> \tC = 4\tP = 26.67%\tR = 3.88%\n",
            "User 61 -> \tC = 0\tP = 0.0%\tR = 0.0%\n",
            "User 62 -> \tC = 2\tP = 13.33%\tR = 3.39%\n",
            "User 63 -> \tC = 0\tP = 0.0%\tR = 0.0%\n",
            "User 64 -> \tC = 3\tP = 20.0%\tR = 4.48%\n",
            "User 65 -> \tC = 2\tP = 13.33%\tR = 5.71%\n",
            "User 66 -> \tC = 1\tP = 6.67%\tR = 9.09%\n",
            "User 67 -> \tC = 0\tP = 0.0%\tR = 0.0%\n",
            "User 68 -> \tC = 1\tP = 6.67%\tR = 11.11%\n",
            "User 69 -> \tC = 1\tP = 6.67%\tR = 4.35%\n",
            "User 70 -> \tC = 4\tP = 26.67%\tR = 11.11%\n",
            "User 71 -> \tC = 0\tP = 0.0%\tR = 0.0%\n",
            "User 72 -> \tC = 4\tP = 26.67%\tR = 7.55%\n",
            "User 73 -> \tC = 1\tP = 6.67%\tR = 4.76%\n",
            "User 74 -> \tC = 0\tP = 0.0%\tR = 0.0%\n",
            "User 75 -> \tC = 0\tP = 0.0%\tR = 0.0%\n",
            "User 76 -> \tC = 1\tP = 6.67%\tR = 4.55%\n",
            "User 77 -> \tC = 1\tP = 6.67%\tR = 5.0%\n",
            "User 78 -> \tC = 0\tP = 0.0%\tR = 0.0%\n",
            "User 79 -> \tC = 1\tP = 6.67%\tR = 4.76%\n",
            "User 80 -> \tC = 0\tP = 0.0%\tR = 0.0%\n",
            "User 81 -> \tC = 1\tP = 6.67%\tR = 6.67%\n",
            "User 82 -> \tC = 1\tP = 6.67%\tR = 2.63%\n",
            "User 83 -> \tC = 3\tP = 20.0%\tR = 7.32%\n",
            "User 84 -> \tC = 0\tP = 0.0%\tR = 0.0%\n",
            "User 85 -> \tC = 6\tP = 40.0%\tR = 6.9%\n",
            "User 86 -> \tC = 0\tP = 0.0%\tR = 0.0%\n",
            "User 87 -> \tC = 2\tP = 13.33%\tR = 2.94%\n",
            "User 88 -> \tC = 0\tP = 0.0%\tR = 0.0%\n",
            "User 89 -> \tC = 1\tP = 6.67%\tR = 3.45%\n",
            "User 90 -> \tC = 4\tP = 26.67%\tR = 3.03%\n",
            "User 91 -> \tC = 4\tP = 26.67%\tR = 10.53%\n",
            "User 92 -> \tC = 4\tP = 26.67%\tR = 4.71%\n",
            "User 93 -> \tC = 1\tP = 6.67%\tR = 33.33%\n",
            "User 94 -> \tC = 3\tP = 20.0%\tR = 2.21%\n",
            "User 95 -> \tC = 2\tP = 13.33%\tR = 2.44%\n",
            "User 96 -> \tC = 2\tP = 13.33%\tR = 8.33%\n",
            "User 97 -> \tC = 1\tP = 6.67%\tR = 4.17%\n",
            "User 98 -> \tC = 1\tP = 6.67%\tR = 10.0%\n",
            "User 99 -> \tC = 2\tP = 13.33%\tR = 5.0%\n",
            "User 100 -> \tC = 1\tP = 6.67%\tR = 7.14%\n",
            "User 101 -> \tC = 1\tP = 6.67%\tR = 9.09%\n",
            "User 102 -> \tC = 0\tP = 0.0%\tR = 0.0%\n",
            "User 103 -> \tC = 1\tP = 6.67%\tR = 14.29%\n",
            "User 104 -> \tC = 0\tP = 0.0%\tR = 0.0%\n",
            "User 105 -> \tC = 0\tP = 0.0%\tR = 0.0%\n",
            "User 106 -> \tC = 1\tP = 6.67%\tR = 5.88%\n",
            "User 107 -> \tC = 1\tP = 6.67%\tR = 33.33%\n",
            "User 108 -> \tC = 0\tP = 0.0%\tR = 0.0%\n",
            "User 109 -> \tC = 3\tP = 20.0%\tR = 4.55%\n",
            "User 110 -> \tC = 0\tP = 0.0%\tR = 0.0%\n",
            "User 111 -> \tC = 0\tP = 0.0%\tR = 0.0%\n",
            "User 112 -> \tC = 0\tP = 0.0%\tR = 0.0%\n",
            "User 113 -> \tC = 1\tP = 6.67%\tR = 5.88%\n",
            "User 114 -> \tC = 2\tP = 13.33%\tR = 14.29%\n",
            "User 115 -> \tC = 0\tP = 0.0%\tR = 0.0%\n",
            "User 116 -> \tC = 1\tP = 6.67%\tR = 3.7%\n",
            "User 117 -> \tC = 7\tP = 46.67%\tR = 33.33%\n",
            "User 118 -> \tC = 3\tP = 20.0%\tR = 7.5%\n",
            "User 119 -> \tC = 2\tP = 13.33%\tR = 2.86%\n",
            "User 120 -> \tC = 0\tP = 0.0%\tR = 0.0%\n",
            "User 121 -> \tC = 1\tP = 6.67%\tR = 3.45%\n",
            "User 122 -> \tC = 1\tP = 6.67%\tR = 3.85%\n",
            "User 123 -> \tC = 2\tP = 13.33%\tR = 8.7%\n",
            "User 124 -> \tC = 3\tP = 20.0%\tR = 50.0%\n",
            "User 125 -> \tC = 3\tP = 20.0%\tR = 7.32%\n",
            "User 126 -> \tC = 0\tP = 0.0%\tR = 0.0%\n",
            "User 127 -> \tC = 4\tP = 26.67%\tR = 44.44%\n",
            "User 128 -> \tC = 1\tP = 6.67%\tR = 1.89%\n",
            "User 129 -> \tC = 0\tP = 0.0%\tR = 0.0%\n",
            "User 130 -> \tC = 5\tP = 33.33%\tR = 3.68%\n",
            "User 131 -> \tC = 0\tP = 0.0%\tR = 0.0%\n",
            "User 132 -> \tC = 0\tP = 0.0%\tR = 0.0%\n",
            "User 133 -> \tC = 0\tP = 0.0%\tR = 0.0%\n",
            "User 134 -> \tC = 0\tP = 0.0%\tR = 0.0%\n",
            "User 135 -> \tC = 0\tP = 0.0%\tR = 0.0%\n",
            "User 136 -> \tC = 1\tP = 6.67%\tR = 5.26%\n",
            "User 137 -> \tC = 4\tP = 26.67%\tR = 25.0%\n",
            "User 138 -> \tC = 2\tP = 13.33%\tR = 8.0%\n",
            "User 139 -> \tC = 1\tP = 6.67%\tR = 10.0%\n",
            "User 140 -> \tC = 0\tP = 0.0%\tR = 0.0%\n",
            "User 141 -> \tC = 3\tP = 20.0%\tR = 7.69%\n",
            "User 142 -> \tC = 2\tP = 13.33%\tR = 15.38%\n",
            "User 143 -> \tC = 0\tP = 0.0%\tR = 0.0%\n",
            "User 144 -> \tC = 3\tP = 20.0%\tR = 3.9%\n",
            "User 145 -> \tC = 3\tP = 20.0%\tR = 3.26%\n",
            "User 146 -> \tC = 0\tP = 0.0%\tR = 0.0%\n",
            "User 147 -> \tC = 1\tP = 6.67%\tR = 12.5%\n",
            "User 148 -> \tC = 4\tP = 26.67%\tR = 16.0%\n",
            "User 149 -> \tC = 0\tP = 0.0%\tR = 0.0%\n",
            "User 150 -> \tC = 1\tP = 6.67%\tR = 12.5%\n",
            "User 151 -> \tC = 7\tP = 46.67%\tR = 5.51%\n",
            "User 152 -> \tC = 1\tP = 6.67%\tR = 1.69%\n",
            "User 153 -> \tC = 0\tP = 0.0%\tR = 0.0%\n",
            "User 154 -> \tC = 1\tP = 6.67%\tR = 5.26%\n",
            "User 155 -> \tC = 0\tP = 0.0%\tR = 0.0%\n",
            "User 156 -> \tC = 1\tP = 6.67%\tR = 8.33%\n",
            "User 157 -> \tC = 0\tP = 0.0%\tR = 0.0%\n",
            "User 158 -> \tC = 4\tP = 26.67%\tR = 6.15%\n",
            "User 159 -> \tC = 1\tP = 6.67%\tR = 2.94%\n",
            "User 160 -> \tC = 1\tP = 6.67%\tR = 1.89%\n",
            "User 161 -> \tC = 0\tP = 0.0%\tR = 0.0%\n",
            "User 162 -> \tC = 0\tP = 0.0%\tR = 0.0%\n",
            "User 163 -> \tC = 0\tP = 0.0%\tR = 0.0%\n",
            "User 164 -> \tC = 2\tP = 13.33%\tR = 8.0%\n",
            "User 165 -> \tC = 0\tP = 0.0%\tR = 0.0%\n",
            "User 166 -> \tC = 1\tP = 6.67%\tR = 25.0%\n",
            "User 167 -> \tC = 0\tP = 0.0%\tR = 0.0%\n",
            "User 168 -> \tC = 0\tP = 0.0%\tR = 0.0%\n",
            "User 169 -> \tC = 2\tP = 13.33%\tR = 15.38%\n",
            "User 170 -> \tC = 0\tP = 0.0%\tR = 0.0%\n",
            "User 171 -> \tC = 0\tP = 0.0%\tR = 0.0%\n",
            "User 172 -> \tC = 0\tP = 0.0%\tR = 0.0%\n",
            "User 173 -> \tC = 0\tP = 0.0%\tR = 0.0%\n",
            "User 174 -> \tC = 1\tP = 6.67%\tR = 1.52%\n",
            "User 175 -> \tC = 2\tP = 13.33%\tR = 12.5%\n",
            "User 176 -> \tC = 1\tP = 6.67%\tR = 4.17%\n",
            "User 177 -> \tC = 4\tP = 26.67%\tR = 9.76%\n",
            "User 178 -> \tC = 2\tP = 13.33%\tR = 1.96%\n",
            "User 179 -> \tC = 1\tP = 6.67%\tR = 10.0%\n",
            "User 180 -> \tC = 0\tP = 0.0%\tR = 0.0%\n",
            "User 181 -> \tC = 0\tP = 0.0%\tR = 0.0%\n",
            "User 182 -> \tC = 1\tP = 6.67%\tR = 10.0%\n",
            "User 183 -> \tC = 1\tP = 6.67%\tR = 9.09%\n",
            "User 184 -> \tC = 2\tP = 13.33%\tR = 2.33%\n",
            "User 185 -> \tC = 0\tP = 0.0%\tR = 0.0%\n",
            "User 186 -> \tC = 0\tP = 0.0%\tR = 0.0%\n",
            "User 187 -> \tC = 0\tP = 0.0%\tR = 0.0%\n",
            "User 188 -> \tC = 3\tP = 20.0%\tR = 7.69%\n",
            "User 189 -> \tC = 2\tP = 13.33%\tR = 2.56%\n",
            "User 190 -> \tC = 0\tP = 0.0%\tR = 0.0%\n",
            "User 191 -> \tC = 0\tP = 0.0%\tR = 0.0%\n",
            "User 192 -> \tC = 0\tP = 0.0%\tR = 0.0%\n",
            "User 193 -> \tC = 3\tP = 20.0%\tR = 9.68%\n",
            "User 194 -> \tC = 2\tP = 13.33%\tR = 4.26%\n",
            "User 195 -> \tC = 1\tP = 6.67%\tR = 6.25%\n",
            "User 196 -> \tC = 1\tP = 6.67%\tR = 12.5%\n",
            "User 197 -> \tC = 2\tP = 13.33%\tR = 9.52%\n",
            "User 198 -> \tC = 3\tP = 20.0%\tR = 7.14%\n",
            "User 199 -> \tC = 0\tP = 0.0%\tR = 0.0%\n",
            "User 200 -> \tC = 5\tP = 33.33%\tR = 6.17%\n",
            "User 201 -> \tC = 2\tP = 13.33%\tR = 2.38%\n",
            "User 202 -> \tC = 0\tP = 0.0%\tR = 0.0%\n",
            "User 203 -> \tC = 0\tP = 0.0%\tR = 0.0%\n",
            "User 204 -> \tC = 2\tP = 13.33%\tR = 18.18%\n",
            "User 205 -> \tC = 0\tP = 0.0%\tR = 0.0%\n",
            "User 206 -> \tC = 0\tP = 0.0%\tR = 0.0%\n",
            "User 207 -> \tC = 2\tP = 13.33%\tR = 4.65%\n",
            "User 208 -> \tC = 1\tP = 6.67%\tR = 14.29%\n",
            "User 209 -> \tC = 1\tP = 6.67%\tR = 12.5%\n",
            "User 210 -> \tC = 4\tP = 26.67%\tR = 7.84%\n",
            "User 211 -> \tC = 0\tP = 0.0%\tR = 0.0%\n",
            "User 212 -> \tC = 1\tP = 6.67%\tR = 7.69%\n",
            "User 213 -> \tC = 1\tP = 6.67%\tR = 1.79%\n",
            "User 214 -> \tC = 2\tP = 13.33%\tR = 4.44%\n",
            "User 215 -> \tC = 2\tP = 13.33%\tR = 6.45%\n",
            "User 216 -> \tC = 2\tP = 13.33%\tR = 4.0%\n",
            "User 217 -> \tC = 3\tP = 20.0%\tR = 21.43%\n",
            "User 218 -> \tC = 1\tP = 6.67%\tR = 5.56%\n",
            "User 219 -> \tC = 0\tP = 0.0%\tR = 0.0%\n",
            "User 220 -> \tC = 0\tP = 0.0%\tR = 0.0%\n",
            "User 221 -> \tC = 2\tP = 13.33%\tR = 4.08%\n",
            "User 222 -> \tC = 5\tP = 33.33%\tR = 6.25%\n",
            "User 223 -> \tC = 2\tP = 13.33%\tR = 9.52%\n",
            "User 224 -> \tC = 1\tP = 6.67%\tR = 4.0%\n",
            "User 225 -> \tC = 0\tP = 0.0%\tR = 0.0%\n",
            "User 226 -> \tC = 1\tP = 6.67%\tR = 5.26%\n",
            "User 227 -> \tC = 0\tP = 0.0%\tR = 0.0%\n",
            "User 228 -> \tC = 0\tP = 0.0%\tR = 0.0%\n",
            "User 229 -> \tC = 0\tP = 0.0%\tR = 0.0%\n",
            "User 230 -> \tC = 4\tP = 26.67%\tR = 7.84%\n",
            "User 231 -> \tC = 1\tP = 6.67%\tR = 20.0%\n",
            "User 232 -> \tC = 1\tP = 6.67%\tR = 2.94%\n",
            "User 233 -> \tC = 0\tP = 0.0%\tR = 0.0%\n",
            "User 234 -> \tC = 3\tP = 20.0%\tR = 3.33%\n",
            "User 235 -> \tC = 2\tP = 13.33%\tR = 5.41%\n",
            "User 236 -> \tC = 0\tP = 0.0%\tR = 0.0%\n",
            "User 237 -> \tC = 2\tP = 13.33%\tR = 8.7%\n",
            "User 238 -> \tC = 1\tP = 6.67%\tR = 20.0%\n",
            "User 239 -> \tC = 3\tP = 20.0%\tR = 4.76%\n",
            "User 240 -> \tC = 1\tP = 6.67%\tR = 11.11%\n",
            "User 241 -> \tC = 0\tP = 0.0%\tR = 0.0%\n",
            "User 242 -> \tC = 0\tP = 0.0%\tR = 0.0%\n",
            "User 243 -> \tC = 3\tP = 20.0%\tR = 13.04%\n",
            "User 244 -> \tC = 7\tP = 46.67%\tR = 8.97%\n",
            "User 245 -> \tC = 0\tP = 0.0%\tR = 0.0%\n",
            "User 246 -> \tC = 2\tP = 13.33%\tR = 5.13%\n",
            "User 247 -> \tC = 2\tP = 13.33%\tR = 20.0%\n",
            "User 248 -> \tC = 3\tP = 20.0%\tR = 37.5%\n",
            "User 249 -> \tC = 2\tP = 13.33%\tR = 2.82%\n",
            "User 250 -> \tC = 1\tP = 6.67%\tR = 2.08%\n",
            "User 251 -> \tC = 0\tP = 0.0%\tR = 0.0%\n",
            "User 252 -> \tC = 0\tP = 0.0%\tR = 0.0%\n",
            "User 253 -> \tC = 1\tP = 6.67%\tR = 2.7%\n",
            "User 254 -> \tC = 5\tP = 33.33%\tR = 18.52%\n",
            "User 255 -> \tC = 0\tP = 0.0%\tR = 0.0%\n",
            "User 256 -> \tC = 4\tP = 26.67%\tR = 4.55%\n",
            "User 257 -> \tC = 2\tP = 13.33%\tR = 7.69%\n",
            "User 258 -> \tC = 0\tP = 0.0%\tR = 0.0%\n",
            "User 259 -> \tC = 0\tP = 0.0%\tR = 0.0%\n",
            "User 260 -> \tC = 0\tP = 0.0%\tR = 0.0%\n",
            "User 261 -> \tC = 0\tP = 0.0%\tR = 0.0%\n",
            "User 262 -> \tC = 2\tP = 13.33%\tR = 6.9%\n",
            "User 263 -> \tC = 0\tP = 0.0%\tR = 0.0%\n",
            "User 264 -> \tC = 1\tP = 6.67%\tR = 2.0%\n",
            "User 265 -> \tC = 0\tP = 0.0%\tR = 0.0%\n",
            "User 266 -> \tC = 2\tP = 13.33%\tR = 28.57%\n",
            "User 267 -> \tC = 2\tP = 13.33%\tR = 2.74%\n",
            "User 268 -> \tC = 5\tP = 33.33%\tR = 8.77%\n",
            "User 269 -> \tC = 4\tP = 26.67%\tR = 5.8%\n",
            "User 270 -> \tC = 1\tP = 6.67%\tR = 1.72%\n",
            "User 271 -> \tC = 3\tP = 20.0%\tR = 3.16%\n",
            "User 272 -> \tC = 2\tP = 13.33%\tR = 6.9%\n",
            "User 273 -> \tC = 0\tP = 0.0%\tR = 0.0%\n",
            "User 274 -> \tC = 1\tP = 6.67%\tR = 3.45%\n",
            "User 275 -> \tC = 1\tP = 6.67%\tR = 10.0%\n",
            "User 276 -> \tC = 5\tP = 33.33%\tR = 3.5%\n",
            "User 277 -> \tC = 1\tP = 6.67%\tR = 6.67%\n",
            "User 278 -> \tC = 0\tP = 0.0%\tR = 0.0%\n",
            "User 279 -> \tC = 3\tP = 20.0%\tR = 2.7%\n",
            "User 280 -> \tC = 2\tP = 13.33%\tR = 2.56%\n",
            "User 281 -> \tC = 0\tP = 0.0%\tR = 0.0%\n",
            "User 282 -> \tC = 0\tP = 0.0%\tR = 0.0%\n",
            "User 283 -> \tC = 1\tP = 6.67%\tR = 4.35%\n",
            "User 284 -> \tC = 0\tP = 0.0%\tR = 0.0%\n",
            "User 285 -> \tC = 1\tP = 6.67%\tR = 9.09%\n",
            "User 286 -> \tC = 4\tP = 26.67%\tR = 3.85%\n",
            "User 287 -> \tC = 2\tP = 13.33%\tR = 10.0%\n",
            "User 288 -> \tC = 1\tP = 6.67%\tR = 3.33%\n",
            "User 289 -> \tC = 2\tP = 13.33%\tR = 66.67%\n",
            "User 290 -> \tC = 4\tP = 26.67%\tR = 10.53%\n",
            "User 291 -> \tC = 3\tP = 20.0%\tR = 2.61%\n",
            "User 292 -> \tC = 2\tP = 13.33%\tR = 4.44%\n",
            "User 293 -> \tC = 3\tP = 20.0%\tR = 4.11%\n",
            "User 294 -> \tC = 2\tP = 13.33%\tR = 5.0%\n",
            "User 295 -> \tC = 5\tP = 33.33%\tR = 5.38%\n",
            "User 296 -> \tC = 3\tP = 20.0%\tR = 4.84%\n",
            "User 297 -> \tC = 1\tP = 6.67%\tR = 2.27%\n",
            "User 298 -> \tC = 2\tP = 13.33%\tR = 3.33%\n",
            "User 299 -> \tC = 2\tP = 13.33%\tR = 2.38%\n",
            "User 300 -> \tC = 0\tP = 0.0%\tR = 0.0%\n",
            "User 301 -> \tC = 5\tP = 33.33%\tR = 5.26%\n",
            "User 302 -> \tC = 0\tP = 0.0%\tR = 0.0%\n",
            "User 303 -> \tC = 6\tP = 40.0%\tR = 4.11%\n",
            "User 304 -> \tC = 1\tP = 6.67%\tR = 16.67%\n",
            "User 305 -> \tC = 5\tP = 33.33%\tR = 8.93%\n",
            "User 306 -> \tC = 0\tP = 0.0%\tR = 0.0%\n",
            "User 307 -> \tC = 3\tP = 20.0%\tR = 10.0%\n",
            "User 308 -> \tC = 3\tP = 20.0%\tR = 2.03%\n",
            "User 309 -> \tC = 0\tP = 0.0%\tR = 0.0%\n",
            "User 310 -> \tC = 1\tP = 6.67%\tR = 50.0%\n",
            "User 311 -> \tC = 5\tP = 33.33%\tR = 5.15%\n",
            "User 312 -> \tC = 4\tP = 26.67%\tR = 3.64%\n",
            "User 313 -> \tC = 3\tP = 20.0%\tR = 3.7%\n",
            "User 314 -> \tC = 1\tP = 6.67%\tR = 1.1%\n",
            "User 315 -> \tC = 1\tP = 6.67%\tR = 2.94%\n",
            "User 316 -> \tC = 2\tP = 13.33%\tR = 10.53%\n",
            "User 317 -> \tC = 0\tP = 0.0%\tR = 0.0%\n",
            "User 318 -> \tC = 2\tP = 13.33%\tR = 3.17%\n",
            "User 319 -> \tC = 1\tP = 6.67%\tR = 20.0%\n",
            "User 320 -> \tC = 4\tP = 26.67%\tR = 7.55%\n",
            "User 321 -> \tC = 1\tP = 6.67%\tR = 2.13%\n",
            "User 322 -> \tC = 4\tP = 26.67%\tR = 17.39%\n",
            "User 323 -> \tC = 2\tP = 13.33%\tR = 8.0%\n",
            "User 324 -> \tC = 0\tP = 0.0%\tR = 0.0%\n",
            "User 325 -> \tC = 4\tP = 26.67%\tR = 11.43%\n",
            "User 326 -> \tC = 4\tP = 26.67%\tR = 8.0%\n",
            "User 327 -> \tC = 2\tP = 13.33%\tR = 2.38%\n",
            "User 328 -> \tC = 0\tP = 0.0%\tR = 0.0%\n",
            "User 329 -> \tC = 1\tP = 6.67%\tR = 6.67%\n",
            "User 330 -> \tC = 1\tP = 6.67%\tR = 1.35%\n",
            "User 331 -> \tC = 2\tP = 13.33%\tR = 8.33%\n",
            "User 332 -> \tC = 6\tP = 40.0%\tR = 6.67%\n",
            "User 333 -> \tC = 0\tP = 0.0%\tR = 0.0%\n",
            "User 334 -> \tC = 2\tP = 13.33%\tR = 1.63%\n",
            "User 335 -> \tC = 0\tP = 0.0%\tR = 0.0%\n",
            "User 336 -> \tC = 2\tP = 13.33%\tR = 6.67%\n",
            "User 337 -> \tC = 1\tP = 6.67%\tR = 6.67%\n",
            "User 338 -> \tC = 4\tP = 26.67%\tR = 12.5%\n",
            "User 339 -> \tC = 2\tP = 13.33%\tR = 1.67%\n",
            "User 340 -> \tC = 2\tP = 13.33%\tR = 10.0%\n",
            "User 341 -> \tC = 2\tP = 13.33%\tR = 28.57%\n",
            "User 342 -> \tC = 2\tP = 13.33%\tR = 3.23%\n",
            "User 343 -> \tC = 2\tP = 13.33%\tR = 1.71%\n",
            "User 344 -> \tC = 4\tP = 26.67%\tR = 5.97%\n",
            "User 345 -> \tC = 5\tP = 33.33%\tR = 6.49%\n",
            "User 346 -> \tC = 2\tP = 13.33%\tR = 3.08%\n",
            "User 347 -> \tC = 3\tP = 20.0%\tR = 4.11%\n",
            "User 348 -> \tC = 0\tP = 0.0%\tR = 0.0%\n",
            "User 349 -> \tC = 0\tP = 0.0%\tR = 0.0%\n",
            "User 350 -> \tC = 1\tP = 6.67%\tR = 3.33%\n",
            "User 351 -> \tC = 0\tP = 0.0%\tR = 0.0%\n",
            "User 352 -> \tC = 2\tP = 13.33%\tR = 11.11%\n",
            "User 353 -> \tC = 0\tP = 0.0%\tR = 0.0%\n",
            "User 354 -> \tC = 3\tP = 20.0%\tR = 3.33%\n",
            "User 355 -> \tC = 0\tP = 0.0%\tR = 0.0%\n",
            "User 356 -> \tC = 0\tP = 0.0%\tR = 0.0%\n",
            "User 357 -> \tC = 0\tP = 0.0%\tR = 0.0%\n",
            "User 358 -> \tC = 1\tP = 6.67%\tR = 4.55%\n",
            "User 359 -> \tC = 0\tP = 0.0%\tR = 0.0%\n",
            "User 360 -> \tC = 4\tP = 26.67%\tR = 8.16%\n",
            "User 361 -> \tC = 2\tP = 13.33%\tR = 3.85%\n",
            "User 362 -> \tC = 1\tP = 6.67%\tR = 11.11%\n",
            "User 363 -> \tC = 5\tP = 33.33%\tR = 5.75%\n",
            "User 364 -> \tC = 0\tP = 0.0%\tR = 0.0%\n",
            "User 365 -> \tC = 0\tP = 0.0%\tR = 0.0%\n",
            "User 366 -> \tC = 1\tP = 6.67%\tR = 7.14%\n",
            "User 367 -> \tC = 2\tP = 13.33%\tR = 6.9%\n",
            "User 368 -> \tC = 1\tP = 6.67%\tR = 7.14%\n",
            "User 369 -> \tC = 1\tP = 6.67%\tR = 8.33%\n",
            "User 370 -> \tC = 0\tP = 0.0%\tR = 0.0%\n",
            "User 371 -> \tC = 1\tP = 6.67%\tR = 3.33%\n",
            "User 372 -> \tC = 0\tP = 0.0%\tR = 0.0%\n",
            "User 373 -> \tC = 2\tP = 13.33%\tR = 2.04%\n",
            "User 374 -> \tC = 3\tP = 20.0%\tR = 3.16%\n",
            "User 375 -> \tC = 0\tP = 0.0%\tR = 0.0%\n",
            "User 376 -> \tC = 0\tP = 0.0%\tR = 0.0%\n",
            "User 377 -> \tC = 1\tP = 6.67%\tR = 7.69%\n",
            "User 378 -> \tC = 2\tP = 13.33%\tR = 1.6%\n",
            "User 379 -> \tC = 3\tP = 20.0%\tR = 2.94%\n",
            "User 380 -> \tC = 0\tP = 0.0%\tR = 0.0%\n",
            "User 381 -> \tC = 1\tP = 6.67%\tR = 1.75%\n",
            "User 382 -> \tC = 1\tP = 6.67%\tR = 5.88%\n",
            "User 383 -> \tC = 0\tP = 0.0%\tR = 0.0%\n",
            "User 384 -> \tC = 0\tP = 0.0%\tR = 0.0%\n",
            "User 385 -> \tC = 2\tP = 13.33%\tR = 2.06%\n",
            "User 386 -> \tC = 0\tP = 0.0%\tR = 0.0%\n",
            "User 387 -> \tC = 5\tP = 33.33%\tR = 4.85%\n",
            "User 388 -> \tC = 0\tP = 0.0%\tR = 0.0%\n",
            "User 389 -> \tC = 3\tP = 20.0%\tR = 2.5%\n",
            "User 390 -> \tC = 0\tP = 0.0%\tR = 0.0%\n",
            "User 391 -> \tC = 1\tP = 6.67%\tR = 1.61%\n",
            "User 392 -> \tC = 0\tP = 0.0%\tR = 0.0%\n",
            "User 393 -> \tC = 3\tP = 20.0%\tR = 2.21%\n",
            "User 394 -> \tC = 0\tP = 0.0%\tR = 0.0%\n",
            "User 395 -> \tC = 2\tP = 13.33%\tR = 7.14%\n",
            "User 396 -> \tC = 0\tP = 0.0%\tR = 0.0%\n",
            "User 397 -> \tC = 1\tP = 6.67%\tR = 1.69%\n",
            "User 398 -> \tC = 0\tP = 0.0%\tR = 0.0%\n",
            "User 399 -> \tC = 0\tP = 0.0%\tR = 0.0%\n",
            "Average P = 9.77\tAverage R = 5.14\n"
          ]
        }
      ]
    }
  ]
}